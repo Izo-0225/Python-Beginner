{
 "cells": [
  {
   "cell_type": "code",
   "execution_count": 1,
   "id": "769afdf8-c04d-4406-a3d6-3dd2d076818a",
   "metadata": {
    "scrolled": true
   },
   "outputs": [
    {
     "name": "stdout",
     "output_type": "stream",
     "text": [
      "Requirement already satisfied: SpeechRecognition in c:\\users\\user\\anaconda3\\lib\\site-packages (3.11.0)\n",
      "Requirement already satisfied: requests>=2.26.0 in c:\\users\\user\\anaconda3\\lib\\site-packages (from SpeechRecognition) (2.32.2)\n",
      "Requirement already satisfied: typing-extensions in c:\\users\\user\\anaconda3\\lib\\site-packages (from SpeechRecognition) (4.11.0)\n",
      "Requirement already satisfied: charset-normalizer<4,>=2 in c:\\users\\user\\anaconda3\\lib\\site-packages (from requests>=2.26.0->SpeechRecognition) (2.0.4)\n",
      "Requirement already satisfied: idna<4,>=2.5 in c:\\users\\user\\anaconda3\\lib\\site-packages (from requests>=2.26.0->SpeechRecognition) (3.7)\n",
      "Requirement already satisfied: urllib3<3,>=1.21.1 in c:\\users\\user\\anaconda3\\lib\\site-packages (from requests>=2.26.0->SpeechRecognition) (2.2.2)\n",
      "Requirement already satisfied: certifi>=2017.4.17 in c:\\users\\user\\anaconda3\\lib\\site-packages (from requests>=2.26.0->SpeechRecognition) (2024.8.30)\n",
      "Requirement already satisfied: gTTS in c:\\users\\user\\anaconda3\\lib\\site-packages (2.5.3)\n",
      "Requirement already satisfied: requests<3,>=2.27 in c:\\users\\user\\anaconda3\\lib\\site-packages (from gTTS) (2.32.2)\n",
      "Requirement already satisfied: click<8.2,>=7.1 in c:\\users\\user\\anaconda3\\lib\\site-packages (from gTTS) (8.1.7)\n",
      "Requirement already satisfied: colorama in c:\\users\\user\\anaconda3\\lib\\site-packages (from click<8.2,>=7.1->gTTS) (0.4.6)\n",
      "Requirement already satisfied: charset-normalizer<4,>=2 in c:\\users\\user\\anaconda3\\lib\\site-packages (from requests<3,>=2.27->gTTS) (2.0.4)\n",
      "Requirement already satisfied: idna<4,>=2.5 in c:\\users\\user\\anaconda3\\lib\\site-packages (from requests<3,>=2.27->gTTS) (3.7)\n",
      "Requirement already satisfied: urllib3<3,>=1.21.1 in c:\\users\\user\\anaconda3\\lib\\site-packages (from requests<3,>=2.27->gTTS) (2.2.2)\n",
      "Requirement already satisfied: certifi>=2017.4.17 in c:\\users\\user\\anaconda3\\lib\\site-packages (from requests<3,>=2.27->gTTS) (2024.8.30)\n",
      "Requirement already satisfied: pygame in c:\\users\\user\\anaconda3\\lib\\site-packages (2.6.1)\n"
     ]
    }
   ],
   "source": [
    "!pip install SpeechRecognition\n",
    "!pip install gTTS\n",
    "!pip install pygame"
   ]
  },
  {
   "cell_type": "code",
   "execution_count": 3,
   "id": "fdc6a260-4f75-4672-85d8-a36375fa088e",
   "metadata": {},
   "outputs": [
    {
     "name": "stdout",
     "output_type": "stream",
     "text": [
      "pygame 2.6.1 (SDL 2.28.4, Python 3.12.4)\n",
      "Hello from the pygame community. https://www.pygame.org/contribute.html\n"
     ]
    }
   ],
   "source": [
    "import speech_recognition\n",
    "def listenTo():\n",
    "    r=speech_recognition.Recognizer()\n",
    "    with speech_recognition.Microphone() as source:\n",
    "         r.adjust_for_ambient_noise(source)\n",
    "         audio=r.listen(source)\n",
    "    return r.recognize_google(audio,language='zh-TW')\n",
    "import tempfile\n",
    "from gtts import gTTS\n",
    "from pygame import mixer\n",
    "mixer.init()"
   ]
  },
  {
   "cell_type": "code",
   "execution_count": 5,
   "id": "df072458-9172-42ab-9ade-c8fd39875acf",
   "metadata": {},
   "outputs": [],
   "source": [
    "def speak(sentence):\n",
    "    with tempfile.NamedTemporaryFile(delete=True) as fp:\n",
    "         tts=gTTS(text=sentence,lang='zh-TW')\n",
    "         tts.save(\"{}.mp3\".format(fp.name))\n",
    "         mixer.music.load('{}.mp3'.format(fp.name))\n",
    "         mixer.music.play()\n",
    "speak('大家好')"
   ]
  },
  {
   "cell_type": "code",
   "execution_count": 7,
   "id": "eec62432-6d8c-40a5-b93b-61d836451fe1",
   "metadata": {},
   "outputs": [],
   "source": [
    "qa={'你是哪裡人':'我是桃園人','你的生日是幾月幾號':'我的生日是4月10號','你喜歡什麼水果':'我喜歡蘋果'}        "
   ]
  },
  {
   "cell_type": "code",
   "execution_count": 9,
   "id": "782ac85b-6a3d-4c40-9c56-3de8d287f874",
   "metadata": {},
   "outputs": [
    {
     "name": "stdout",
     "output_type": "stream",
     "text": [
      "Requirement already satisfied: pyaudio in c:\\users\\user\\anaconda3\\lib\\site-packages (0.2.14)\n"
     ]
    }
   ],
   "source": [
    "!pip install pyaudio "
   ]
  },
  {
   "cell_type": "code",
   "execution_count": 11,
   "id": "ffb74cf0-0400-4fe8-a93f-c93e401fe845",
   "metadata": {},
   "outputs": [],
   "source": [
    "speak(qa.get(listenTo(),'聽不懂,再輸入更多台詞'))"
   ]
  },
  {
   "cell_type": "code",
   "execution_count": 13,
   "id": "8bdafb37-653e-46ca-9670-7ac39a5a8dc7",
   "metadata": {},
   "outputs": [
    {
     "name": "stdout",
     "output_type": "stream",
     "text": [
      "Requirement already satisfied: pyttsx3 in c:\\users\\user\\anaconda3\\lib\\site-packages (2.98)\n",
      "Requirement already satisfied: comtypes in c:\\users\\user\\anaconda3\\lib\\site-packages (from pyttsx3) (1.4.8)\n",
      "Requirement already satisfied: pypiwin32 in c:\\users\\user\\anaconda3\\lib\\site-packages (from pyttsx3) (223)\n",
      "Requirement already satisfied: pywin32 in c:\\users\\user\\anaconda3\\lib\\site-packages (from pyttsx3) (305.1)\n"
     ]
    }
   ],
   "source": [
    "!pip install pyttsx3"
   ]
  },
  {
   "cell_type": "code",
   "execution_count": 15,
   "id": "7c4287bf-9fd9-49db-af77-b9e70f77e466",
   "metadata": {},
   "outputs": [],
   "source": [
    "import pyttsx3\n",
    "engine=pyttsx3.init()\n",
    "engine.setProperty('rate',160)\n",
    "engine.setProperty('volume',0.8)\n",
    "engine.say(\"You've got mail!\")\n",
    "engine.say(\"生日快樂\")\n",
    "engine.runAndWait()"
   ]
  },
  {
   "cell_type": "code",
   "execution_count": 17,
   "id": "4f0d9404-0842-4e6f-b23e-5f2c66b77769",
   "metadata": {},
   "outputs": [],
   "source": [
    "engine.stop()"
   ]
  },
  {
   "cell_type": "code",
   "execution_count": null,
   "id": "8c0537bc-b39c-4871-a04c-94edcb491eb9",
   "metadata": {},
   "outputs": [],
   "source": []
  }
 ],
 "metadata": {
  "kernelspec": {
   "display_name": "Python 3 (ipykernel)",
   "language": "python",
   "name": "python3"
  },
  "language_info": {
   "codemirror_mode": {
    "name": "ipython",
    "version": 3
   },
   "file_extension": ".py",
   "mimetype": "text/x-python",
   "name": "python",
   "nbconvert_exporter": "python",
   "pygments_lexer": "ipython3",
   "version": "3.12.4"
  }
 },
 "nbformat": 4,
 "nbformat_minor": 5
}
