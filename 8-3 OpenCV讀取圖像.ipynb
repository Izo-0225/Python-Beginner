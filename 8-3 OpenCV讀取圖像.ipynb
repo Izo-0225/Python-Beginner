{
 "cells": [
  {
   "cell_type": "code",
   "execution_count": 1,
   "metadata": {},
   "outputs": [],
   "source": [
    "import cv2\n",
    "import numpy as np"
   ]
  },
  {
   "cell_type": "code",
   "execution_count": 2,
   "metadata": {},
   "outputs": [
    {
     "data": {
      "text/plain": [
       "array([[[179, 165, 169],\n",
       "        [178, 167, 170],\n",
       "        [178, 167, 170],\n",
       "        ...,\n",
       "        [178, 171, 174],\n",
       "        [187, 180, 183],\n",
       "        [193, 186, 189]],\n",
       "\n",
       "       [[175, 161, 167],\n",
       "        [174, 162, 168],\n",
       "        [175, 163, 169],\n",
       "        ...,\n",
       "        [185, 178, 181],\n",
       "        [186, 179, 182],\n",
       "        [187, 180, 183]],\n",
       "\n",
       "       [[166, 152, 158],\n",
       "        [165, 153, 159],\n",
       "        [166, 154, 160],\n",
       "        ...,\n",
       "        [198, 191, 194],\n",
       "        [196, 189, 192],\n",
       "        [195, 188, 191]],\n",
       "\n",
       "       ...,\n",
       "\n",
       "       [[195, 198, 203],\n",
       "        [191, 194, 199],\n",
       "        [185, 187, 195],\n",
       "        ...,\n",
       "        [200, 209, 212],\n",
       "        [200, 209, 212],\n",
       "        [193, 203, 203]],\n",
       "\n",
       "       [[195, 198, 203],\n",
       "        [195, 198, 203],\n",
       "        [198, 200, 208],\n",
       "        ...,\n",
       "        [197, 206, 209],\n",
       "        [202, 211, 214],\n",
       "        [192, 202, 202]],\n",
       "\n",
       "       [[185, 188, 193],\n",
       "        [182, 185, 190],\n",
       "        [183, 185, 193],\n",
       "        ...,\n",
       "        [200, 209, 212],\n",
       "        [198, 207, 210],\n",
       "        [185, 195, 195]]], dtype=uint8)"
      ]
     },
     "execution_count": 2,
     "metadata": {},
     "output_type": "execute_result"
    }
   ],
   "source": [
    "#讀圖片檔案, 0表示黑白, 1表示彩色\n",
    "img=cv2.imread('d:/ipython/picture/Penguin.jpg', 1)  \n",
    "# 文字\n",
    "text = 'Hello, My Friend!'\n",
    "\n",
    "# 使用各種字體\n",
    "cv2.putText(img, text, (20, 60), cv2.FONT_HERSHEY_SIMPLEX,\n",
    "  2, (0, 255, 255), 3, cv2.LINE_AA)"
   ]
  },
  {
   "cell_type": "code",
   "execution_count": 3,
   "metadata": {},
   "outputs": [],
   "source": [
    "cv2.imshow('image',img)"
   ]
  },
  {
   "cell_type": "code",
   "execution_count": 4,
   "metadata": {},
   "outputs": [
    {
     "data": {
      "text/plain": [
       "True"
      ]
     },
     "execution_count": 4,
     "metadata": {},
     "output_type": "execute_result"
    }
   ],
   "source": [
    "cv2.imwrite('d:/ipython/picture/Penguin_1.jpg', img)"
   ]
  },
  {
   "cell_type": "code",
   "execution_count": 5,
   "metadata": {},
   "outputs": [],
   "source": [
    "gray_img=cv2.cvtColor(img, cv2.COLOR_BGR2GRAY)\n",
    "canny_img=cv2.Canny(gray_img, 100,200)"
   ]
  },
  {
   "cell_type": "code",
   "execution_count": 6,
   "metadata": {},
   "outputs": [],
   "source": [
    "cv2.imshow('gray_img', gray_img)\n",
    "cv2.imshow('canny_img', canny_img)"
   ]
  },
  {
   "cell_type": "code",
   "execution_count": 7,
   "metadata": {},
   "outputs": [
    {
     "data": {
      "text/plain": [
       "True"
      ]
     },
     "execution_count": 7,
     "metadata": {},
     "output_type": "execute_result"
    }
   ],
   "source": [
    "cv2.imwrite('d:/ipython/picture/Penguin_2.jpg', img)"
   ]
  },
  {
   "cell_type": "code",
   "execution_count": 8,
   "metadata": {},
   "outputs": [],
   "source": [
    "cv2.waitKey(0)\n",
    "\n",
    "cv2.destroyAllWindows()"
   ]
  },
  {
   "cell_type": "code",
   "execution_count": null,
   "metadata": {},
   "outputs": [],
   "source": []
  }
 ],
 "metadata": {
  "kernelspec": {
   "display_name": "Python 3",
   "language": "python",
   "name": "python3"
  },
  "language_info": {
   "codemirror_mode": {
    "name": "ipython",
    "version": 3
   },
   "file_extension": ".py",
   "mimetype": "text/x-python",
   "name": "python",
   "nbconvert_exporter": "python",
   "pygments_lexer": "ipython3",
   "version": "3.8.5"
  }
 },
 "nbformat": 4,
 "nbformat_minor": 2
}
