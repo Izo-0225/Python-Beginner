{
 "cells": [
  {
   "cell_type": "code",
   "execution_count": 1,
   "metadata": {},
   "outputs": [],
   "source": [
    "from PIL import Image\n",
    "pic=Image.open('d:/ipython/picture/Penguin.jpg')"
   ]
  },
  {
   "cell_type": "code",
   "execution_count": 2,
   "metadata": {},
   "outputs": [
    {
     "name": "stdout",
     "output_type": "stream",
     "text": [
      "圖像寬度: 864\n",
      "圖像高度: 1075\n"
     ]
    }
   ],
   "source": [
    "print('圖像寬度:',pic.width)\n",
    "print('圖像高度:',pic.height)"
   ]
  },
  {
   "cell_type": "code",
   "execution_count": 3,
   "metadata": {},
   "outputs": [
    {
     "name": "stdout",
     "output_type": "stream",
     "text": [
      "檔案格式: JPEG\n",
      "色彩模式: RGB\n",
      "圖片尺寸: (864, 1075)\n"
     ]
    }
   ],
   "source": [
    "print('檔案格式:',pic.format)\n",
    "print('色彩模式:',pic.mode)\n",
    "print('圖片尺寸:',pic.size)"
   ]
  },
  {
   "cell_type": "code",
   "execution_count": 4,
   "metadata": {},
   "outputs": [],
   "source": [
    "pic.show()"
   ]
  },
  {
   "cell_type": "code",
   "execution_count": 5,
   "metadata": {},
   "outputs": [
    {
     "name": "stdout",
     "output_type": "stream",
     "text": [
      "原本色彩模式: RGB\n",
      "轉換黑白後的色彩模式: 1\n"
     ]
    }
   ],
   "source": [
    "print('原本色彩模式:', pic.mode)\n",
    "new_pic=pic.convert('1')\n",
    "new_pic.show()\n",
    "print('轉換黑白後的色彩模式:', new_pic.mode)"
   ]
  },
  {
   "cell_type": "code",
   "execution_count": 6,
   "metadata": {},
   "outputs": [],
   "source": [
    "new_pic=pic.rotate(30)\n",
    "new_pic.show()\n",
    "\n",
    "new_pic2=pic.rotate(-30)\n",
    "new_pic2.show()"
   ]
  },
  {
   "cell_type": "code",
   "execution_count": 7,
   "metadata": {},
   "outputs": [],
   "source": [
    "from PIL import ImageFilter\n",
    "pic=Image.open('d:/ipython/picture/Penguin.jpg')"
   ]
  },
  {
   "cell_type": "code",
   "execution_count": 8,
   "metadata": {},
   "outputs": [],
   "source": [
    "new_pic=pic.filter(ImageFilter.CONTOUR)\n",
    "new_pic.save('d:/ipython/picture/Penguins1.jpg')\n",
    "new_pic.show()"
   ]
  },
  {
   "cell_type": "code",
   "execution_count": 9,
   "metadata": {},
   "outputs": [],
   "source": [
    "new_pic=pic.filter(ImageFilter.EMBOSS)\n",
    "new_pic.save('d:/ipython/picture/Penguins2.jpg')\n",
    "new_pic.show()"
   ]
  },
  {
   "cell_type": "code",
   "execution_count": 10,
   "metadata": {},
   "outputs": [
    {
     "name": "stdout",
     "output_type": "stream",
     "text": [
      "原圖尺寸: (864, 1075)\n",
      "縮放後圖形尺寸: (350, 350)\n"
     ]
    }
   ],
   "source": [
    "print('原圖尺寸:', pic.size)\n",
    "new_pic=pic.resize((350,350))\n",
    "print('縮放後圖形尺寸:', new_pic.size)\n",
    "new_pic.save('d:/ipython/picture/Penguins3.jpg')\n",
    "new_pic.show()"
   ]
  },
  {
   "cell_type": "code",
   "execution_count": null,
   "metadata": {},
   "outputs": [],
   "source": []
  },
  {
   "cell_type": "code",
   "execution_count": 11,
   "metadata": {},
   "outputs": [],
   "source": [
    "from PIL import Image, ImageFont, ImageDraw\n",
    "pic=Image.open('d:/ipython/picture/Penguin.jpg')"
   ]
  },
  {
   "cell_type": "code",
   "execution_count": 12,
   "metadata": {},
   "outputs": [],
   "source": [
    "t_font=ImageFont.truetype('c://Windows//Fonts//Arial//arial.ttf', 100)\n",
    "draw=ImageDraw.Draw(pic)\n",
    "\n",
    "draw.text((50,10), 'South Pole', font=t_font, fill=(255,0,0,255))\n",
    "draw.text((450,850), 'Penguin', font=t_font, fill=(0,255,0,255))\n",
    "pic.show()"
   ]
  },
  {
   "cell_type": "code",
   "execution_count": null,
   "metadata": {
    "collapsed": true
   },
   "outputs": [],
   "source": [
    "# picture\n",
    "# zh.wikipedia.org/wiki/國王企鵝"
   ]
  }
 ],
 "metadata": {
  "kernelspec": {
   "display_name": "Python 3",
   "language": "python",
   "name": "python3"
  },
  "language_info": {
   "codemirror_mode": {
    "name": "ipython",
    "version": 3
   },
   "file_extension": ".py",
   "mimetype": "text/x-python",
   "name": "python",
   "nbconvert_exporter": "python",
   "pygments_lexer": "ipython3",
   "version": "3.8.5"
  }
 },
 "nbformat": 4,
 "nbformat_minor": 2
}
