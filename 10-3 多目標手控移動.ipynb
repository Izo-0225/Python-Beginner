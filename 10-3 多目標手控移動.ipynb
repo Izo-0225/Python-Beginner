{
 "cells": [
  {
   "cell_type": "code",
   "execution_count": 8,
   "metadata": {},
   "outputs": [
    {
     "name": "stdout",
     "output_type": "stream",
     "text": [
      "Collecting cvzone\n",
      "  Downloading cvzone-1.5.2.tar.gz (12 kB)\n",
      "Requirement already satisfied: opencv-python in c:\\users\\user2018\\anaconda4\\lib\\site-packages (from cvzone) (4.5.1.48)\n",
      "Requirement already satisfied: numpy in c:\\users\\user2018\\anaconda4\\lib\\site-packages (from cvzone) (1.19.2)\n",
      "Building wheels for collected packages: cvzone\n",
      "  Building wheel for cvzone (setup.py): started\n",
      "  Building wheel for cvzone (setup.py): finished with status 'done'\n",
      "  Created wheel for cvzone: filename=cvzone-1.5.2-py3-none-any.whl size=18359 sha256=6abf8f4218a0557b55f243ea308f2a6fa5a6e5005ea9a72d55f099a7853e39df\n",
      "  Stored in directory: c:\\users\\user2018\\appdata\\local\\pip\\cache\\wheels\\d1\\9d\\fc\\a1f5f5f274ff078ae1c252f2217fd3281e19d732f2738a24ad\n",
      "Successfully built cvzone\n",
      "Installing collected packages: cvzone\n",
      "Successfully installed cvzone-1.5.2\n"
     ]
    }
   ],
   "source": [
    "! pip install cvzone"
   ]
  },
  {
   "cell_type": "code",
   "execution_count": 1,
   "metadata": {},
   "outputs": [
    {
     "name": "stdout",
     "output_type": "stream",
     "text": [
      "Collecting cvzone==1.4.1\n",
      "  Downloading cvzone-1.4.1.tar.gz (11 kB)\n",
      "Requirement already satisfied: opencv-python in c:\\users\\user2018\\anaconda4\\lib\\site-packages (from cvzone==1.4.1) (4.5.1.48)\n",
      "Requirement already satisfied: numpy in c:\\users\\user2018\\anaconda4\\lib\\site-packages (from cvzone==1.4.1) (1.19.2)\n",
      "Building wheels for collected packages: cvzone\n",
      "  Building wheel for cvzone (setup.py): started\n",
      "  Building wheel for cvzone (setup.py): finished with status 'done'\n",
      "  Created wheel for cvzone: filename=cvzone-1.4.1-py3-none-any.whl size=17684 sha256=443fe08f6698c7218bded04a2bfe0038fe1c42e0ac3efab9c00a3a00e08da6f5\n",
      "  Stored in directory: c:\\users\\user2018\\appdata\\local\\pip\\cache\\wheels\\d3\\b3\\ff\\7b197e948ca2753daa608d877c4f3a2f0d660c8b7be1ce169c\n",
      "Successfully built cvzone\n",
      "Installing collected packages: cvzone\n",
      "  Attempting uninstall: cvzone\n",
      "    Found existing installation: cvzone 1.5.2\n",
      "    Uninstalling cvzone-1.5.2:\n",
      "      Successfully uninstalled cvzone-1.5.2\n",
      "Successfully installed cvzone-1.4.1\n"
     ]
    }
   ],
   "source": [
    "! pip install cvzone==1.4.1"
   ]
  },
  {
   "cell_type": "code",
   "execution_count": 11,
   "metadata": {
    "scrolled": true
   },
   "outputs": [
    {
     "name": "stdout",
     "output_type": "stream",
     "text": [
      "Collecting mediapipe\n",
      "  Downloading mediapipe-0.8.8-cp38-cp38-win_amd64.whl (45.8 MB)\n",
      "Requirement already satisfied: opencv-contrib-python in c:\\users\\user2018\\appdata\\roaming\\python\\python38\\site-packages (from mediapipe) (4.5.2.52)\n",
      "Requirement already satisfied: matplotlib in c:\\users\\user2018\\anaconda4\\lib\\site-packages (from mediapipe) (3.3.2)\n",
      "Requirement already satisfied: absl-py in c:\\users\\user2018\\anaconda4\\lib\\site-packages (from mediapipe) (0.11.0)\n",
      "Requirement already satisfied: attrs>=19.1.0 in c:\\users\\user2018\\anaconda4\\lib\\site-packages (from mediapipe) (20.3.0)\n",
      "Requirement already satisfied: numpy in c:\\users\\user2018\\anaconda4\\lib\\site-packages (from mediapipe) (1.19.2)\n",
      "Requirement already satisfied: protobuf>=3.11.4 in c:\\users\\user2018\\anaconda4\\lib\\site-packages (from mediapipe) (3.14.0)\n",
      "Requirement already satisfied: six in c:\\users\\user2018\\anaconda4\\lib\\site-packages (from mediapipe) (1.15.0)\n",
      "Requirement already satisfied: wheel in c:\\users\\user2018\\anaconda4\\lib\\site-packages (from mediapipe) (0.35.1)\n",
      "Requirement already satisfied: certifi>=2020.06.20 in c:\\users\\user2018\\anaconda4\\lib\\site-packages (from matplotlib->mediapipe) (2020.6.20)\n",
      "Requirement already satisfied: python-dateutil>=2.1 in c:\\users\\user2018\\anaconda4\\lib\\site-packages (from matplotlib->mediapipe) (2.8.1)\n",
      "Requirement already satisfied: pyparsing!=2.0.4,!=2.1.2,!=2.1.6,>=2.0.3 in c:\\users\\user2018\\anaconda4\\lib\\site-packages (from matplotlib->mediapipe) (2.4.7)\n",
      "Requirement already satisfied: cycler>=0.10 in c:\\users\\user2018\\anaconda4\\lib\\site-packages (from matplotlib->mediapipe) (0.10.0)\n",
      "Requirement already satisfied: pillow>=6.2.0 in c:\\users\\user2018\\anaconda4\\lib\\site-packages (from matplotlib->mediapipe) (8.0.1)\n",
      "Requirement already satisfied: kiwisolver>=1.0.1 in c:\\users\\user2018\\anaconda4\\lib\\site-packages (from matplotlib->mediapipe) (1.3.0)\n",
      "Installing collected packages: mediapipe\n",
      "Successfully installed mediapipe-0.8.8\n"
     ]
    }
   ],
   "source": [
    "! pip install mediapipe"
   ]
  },
  {
   "cell_type": "code",
   "execution_count": 1,
   "metadata": {},
   "outputs": [],
   "source": [
    "import cv2\n",
    "import cvzone\n",
    "from cvzone.HandTrackingModule import HandDetector"
   ]
  },
  {
   "cell_type": "code",
   "execution_count": 2,
   "metadata": {},
   "outputs": [],
   "source": [
    "cap=cv2.VideoCapture(0)"
   ]
  },
  {
   "cell_type": "code",
   "execution_count": 3,
   "metadata": {},
   "outputs": [],
   "source": [
    "cap.set(3,1280)\n",
    "cap.set(4, 720)\n",
    "detector = HandDetector(detectionCon=0.8)\n",
    "colorR=(255,0,255)"
   ]
  },
  {
   "cell_type": "code",
   "execution_count": 4,
   "metadata": {},
   "outputs": [],
   "source": [
    "cx,cy, w, h =100,100, 200, 200"
   ]
  },
  {
   "cell_type": "code",
   "execution_count": 5,
   "metadata": {},
   "outputs": [],
   "source": [
    "class DragRect():\n",
    "    def __init__(self,posCenter, size=[200,200]):\n",
    "        self.posCenter=posCenter\n",
    "        self.size=size\n",
    "    \n",
    "    def update(self, cursor):\n",
    "        cx, cy=self.posCenter\n",
    "        w, h = self.size\n",
    "        \n",
    "        # if the index finger tip is in the rectangle region\n",
    "        if cx-w//2 <cursor[0]<cx+w//2 and cy-h//2 <cursor[1]<cy+h//2:\n",
    "            self.posCenter=cursor"
   ]
  },
  {
   "cell_type": "code",
   "execution_count": 6,
   "metadata": {},
   "outputs": [],
   "source": [
    "rectList=[]"
   ]
  },
  {
   "cell_type": "code",
   "execution_count": 7,
   "metadata": {},
   "outputs": [],
   "source": [
    "for x in range(3):   \n",
    "    rectList.append(DragRect([x*250+150,150]))"
   ]
  },
  {
   "cell_type": "code",
   "execution_count": null,
   "metadata": {},
   "outputs": [],
   "source": [
    "while True:\n",
    "    success, img=cap.read()\n",
    "    img=cv2.flip(img, 1)\n",
    "    img=detector.findHands(img)\n",
    "    lmList, _ = detector.findPosition (img)\n",
    "    \n",
    "    if lmList:\n",
    "        cursor=lmList[8] # index finger tip landmark\n",
    "               \n",
    "        for rect in rectList:\n",
    "            rect.update(cursor)\n",
    "           \n",
    "        if cx-w//2 <cursor[0]<cx+w//2 and cy-h//2 <cursor[1]<cy+h//2:\n",
    "            colorR=0,255,0\n",
    "            cx, cy=cursor\n",
    "        else: \n",
    "            colorR=(255,0,255)\n",
    "            \n",
    "    # draw solid\n",
    "    for rect in rectList:\n",
    "        cx, cy=rect.posCenter\n",
    "        w, h = rect.size\n",
    "        cv2.rectangle(img, (cx-w//2,cy-h//2),(cx+w//2,cy+h//2), colorR, cv2.FILLED)\n",
    " \n",
    "    cv2.imshow(\"Image\", img)\n",
    "    cv2.waitKey(1)"
   ]
  },
  {
   "cell_type": "code",
   "execution_count": null,
   "metadata": {},
   "outputs": [],
   "source": [
    "cv2.destroyAllWindows()\n",
    "cap.release()"
   ]
  },
  {
   "cell_type": "code",
   "execution_count": null,
   "metadata": {},
   "outputs": [],
   "source": [
    "# https://www.youtube.com/watch?v=6DxN8G9vB50"
   ]
  },
  {
   "cell_type": "code",
   "execution_count": null,
   "metadata": {},
   "outputs": [],
   "source": [
    "# mediapipe安裝\n",
    "# http://www.circuspi.com/index.php/2021/06/23/ai-mediapipe-unit1/"
   ]
  }
 ],
 "metadata": {
  "kernelspec": {
   "display_name": "Python 3",
   "language": "python",
   "name": "python3"
  },
  "language_info": {
   "codemirror_mode": {
    "name": "ipython",
    "version": 3
   },
   "file_extension": ".py",
   "mimetype": "text/x-python",
   "name": "python",
   "nbconvert_exporter": "python",
   "pygments_lexer": "ipython3",
   "version": "3.8.5"
  }
 },
 "nbformat": 4,
 "nbformat_minor": 4
}
