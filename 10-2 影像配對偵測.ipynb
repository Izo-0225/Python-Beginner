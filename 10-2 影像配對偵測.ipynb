{
 "cells": [
  {
   "cell_type": "code",
   "execution_count": 1,
   "metadata": {},
   "outputs": [
    {
     "name": "stdout",
     "output_type": "stream",
     "text": [
      "pygame 2.0.1 (SDL 2.0.14, Python 3.8.5)\n",
      "Hello from the pygame community. https://www.pygame.org/contribute.html\n"
     ]
    }
   ],
   "source": [
    "import numpy as np\n",
    "import cv2\n",
    "from pygame import mixer\n",
    "\n",
    "\n",
    "from PIL import Image\n",
    "from functools import reduce\n",
    "import math, operator\n",
    "\n",
    "cap=cv2.VideoCapture(0)                     \n",
    "\n",
    "face_cascade=cv2.CascadeClassifier('d:/picture/haarcascade_frontalface_default.xml')\n",
    "\n",
    "while(True):\n",
    "    # Capture frame-by-frame\n",
    "    ret, frame=cap.read()   \n",
    "    gray=cv2.cvtColor(frame, cv2.COLOR_BGR2GRAY)\n",
    "    faces=face_cascade.detectMultiScale(gray, scaleFactor=1.5, minNeighbors=5)\n",
    "    for (x, y, w, h) in faces:\n",
    "        #point(x, y ,w, h)\n",
    "        roi_gray=gray[y:y+h, x:x+w]  #(ycord_start, ycord_end)\n",
    "        roi_color=frame[y:y+h, x:x+w]\n",
    "           \n",
    "       # recognize, deep learned \n",
    "                \n",
    "        img_item=\"d:/picture/chen12.jpg\"  # at c:/User/USER2018/my-image.png\n",
    "        cv2.imwrite(img_item, roi_gray)\n",
    "        myimg=Image.open(\"d:/picture/chen12.jpg\")\n",
    "        imgCrop=myimg.crop((x,y,x+w, y+h))\n",
    "        imgResize=imgCrop.resize((150,150), Image.ANTIALIAS)\n",
    "        #imgResize.save(\"d:/picture/newface2.jpg\")                       # 儲存檔案\n",
    "        color=(255,0,0)   \n",
    "        stroke=2\n",
    "        \n",
    "            \n",
    "        # display the resulting frame\n",
    "                     \n",
    "        cv2.namedWindow(\"FaceRecognition\", cv2.WINDOW_NORMAL)\n",
    "        cv2.imshow(\"FaceRecognition\", frame)\n",
    "        \n",
    "        end_cord_x=x+w\n",
    "        end_cord_y=y+h\n",
    "        cv2.rectangle(frame, (x,y), (end_cord_x, end_cord_y), color, stroke)\n",
    "        \n",
    "    \n",
    "    # display the resulting frame\n",
    "    \n",
    "    cv2.imshow('frame', frame)\n",
    "    if cv2.waitKey(20) & 0xFF == ord('q'):\n",
    "        break\n",
    "        \n",
    "# When everything done, release the capture and press 'q'"
   ]
  },
  {
   "cell_type": "code",
   "execution_count": 2,
   "metadata": {},
   "outputs": [
    {
     "name": "stdout",
     "output_type": "stream",
     "text": [
      "RMS =  113.43428025733667\n",
      "比對失敗\n"
     ]
    }
   ],
   "source": [
    "h1 = Image.open(\"d:/picture/chen10.jpg\").histogram()\n",
    "h2 = Image.open(\"d:/picture/chen11.jpg\").histogram()\n",
    "RMS = math.sqrt(reduce(operator.add, list(map(lambda a,b:(a-b)**2, h1, h2)))/len(h1))\n",
    "print(\"RMS = \", RMS)\n",
    "\n",
    "if RMS <= 100:\n",
    "    print(\"歡迎出入境\")\n",
    "    mixer.init()\n",
    "    mixer.music.load('welcome.mp3')\n",
    "    mixer.music.play()\n",
    "else:\n",
    "    print(\"比對失敗\")  \n",
    "    mixer.init()\n",
    "    mixer.music.load('failure.mp3')\n",
    "    mixer.music.play()"
   ]
  },
  {
   "cell_type": "code",
   "execution_count": 3,
   "metadata": {},
   "outputs": [],
   "source": [
    "cap.release()\n",
    "cv2.destroyAllWindows()"
   ]
  },
  {
   "cell_type": "code",
   "execution_count": 4,
   "metadata": {},
   "outputs": [],
   "source": [
    "# 按 q 結束圖形"
   ]
  },
  {
   "cell_type": "code",
   "execution_count": 5,
   "metadata": {},
   "outputs": [
    {
     "name": "stdout",
     "output_type": "stream",
     "text": [
      "RMS =  237.94681653680513\n",
      "歡迎出入境\n"
     ]
    }
   ],
   "source": [
    "h1 = Image.open(\"d:/picture/chen4.jpg\").histogram()\n",
    "h2 = Image.open(\"d:/picture/chen10.jpg\").histogram()\n",
    "RMS = math.sqrt(reduce(operator.add, list(map(lambda a,b:(a-b)**2, h1, h2)))/len(h1))\n",
    "print(\"RMS = \", RMS)\n",
    "\n",
    "if RMS <= 250:\n",
    "    print(\"歡迎出入境\")\n",
    "    mixer.init()\n",
    "    mixer.music.load('welcome.mp3')\n",
    "    mixer.music.play()\n",
    "else:\n",
    "    print(\"比對失敗\")  \n",
    "    mixer.init()\n",
    "    mixer.music.load('failure.mp3')\n",
    "    mixer.music.play()"
   ]
  },
  {
   "cell_type": "code",
   "execution_count": 27,
   "metadata": {},
   "outputs": [],
   "source": [
    "# 按 q 結束圖形"
   ]
  },
  {
   "cell_type": "code",
   "execution_count": null,
   "metadata": {},
   "outputs": [],
   "source": [
    "# https://www.youtube.com/watch?v=PmZ29Vta7Vc"
   ]
  },
  {
   "cell_type": "code",
   "execution_count": null,
   "metadata": {},
   "outputs": [],
   "source": [
    "# Python 入門邁向高手之路亡者歸來  洪錦魁 2018年"
   ]
  }
 ],
 "metadata": {
  "kernelspec": {
   "display_name": "Python 3",
   "language": "python",
   "name": "python3"
  },
  "language_info": {
   "codemirror_mode": {
    "name": "ipython",
    "version": 3
   },
   "file_extension": ".py",
   "mimetype": "text/x-python",
   "name": "python",
   "nbconvert_exporter": "python",
   "pygments_lexer": "ipython3",
   "version": "3.8.5"
  }
 },
 "nbformat": 4,
 "nbformat_minor": 4
}
