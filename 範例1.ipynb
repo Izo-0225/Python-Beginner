{
 "cells": [
  {
   "cell_type": "code",
   "execution_count": 10,
   "id": "e9f8cc4e-4e21-4299-8baa-1f277591b2ac",
   "metadata": {},
   "outputs": [
    {
     "name": "stdout",
     "output_type": "stream",
     "text": [
      "Requirement already satisfied: SnowNLP in c:\\users\\user\\anaconda3\\lib\\site-packages (0.12.3)\n"
     ]
    }
   ],
   "source": [
    "!pip install SnowNLP"
   ]
  },
  {
   "cell_type": "code",
   "execution_count": 14,
   "id": "4a0f1042-7241-4b2b-830d-2ed9a879316e",
   "metadata": {},
   "outputs": [],
   "source": [
    "from snownlp import SnowNLP\n",
    "text=u\"我今天很快樂。我今天很憤怒。\""
   ]
  },
  {
   "cell_type": "code",
   "execution_count": 12,
   "id": "57cfec08-22ac-4844-80db-0313bb0ac89a",
   "metadata": {},
   "outputs": [
    {
     "name": "stdout",
     "output_type": "stream",
     "text": [
      "我今天很快樂\n",
      "我今天很憤怒\n"
     ]
    }
   ],
   "source": [
    "s=SnowNLP(text)\n",
    "for sentence in s.sentences:\n",
    "    print(sentence)"
   ]
  },
  {
   "cell_type": "code",
   "execution_count": 17,
   "id": "a8985cde-9900-40e3-8547-cccdcbe17ead",
   "metadata": {},
   "outputs": [
    {
     "data": {
      "text/plain": [
       "0.9268071116367116"
      ]
     },
     "execution_count": 17,
     "metadata": {},
     "output_type": "execute_result"
    }
   ],
   "source": [
    "sl=SnowNLP(s.sentences[0])\n",
    "sl.sentiments"
   ]
  },
  {
   "cell_type": "code",
   "execution_count": 19,
   "id": "8965f93b-2e0a-409c-bc43-b84941bdb57b",
   "metadata": {},
   "outputs": [
    {
     "data": {
      "text/plain": [
       "0.1702660762575916"
      ]
     },
     "execution_count": 19,
     "metadata": {},
     "output_type": "execute_result"
    }
   ],
   "source": [
    "sl=SnowNLP(s.sentences[1])\n",
    "sl.sentiments"
   ]
  },
  {
   "cell_type": "code",
   "execution_count": null,
   "id": "47baa9f2-47b3-4768-b752-f0d8e8ed9c7e",
   "metadata": {},
   "outputs": [],
   "source": []
  }
 ],
 "metadata": {
  "kernelspec": {
   "display_name": "Python 3 (ipykernel)",
   "language": "python",
   "name": "python3"
  },
  "language_info": {
   "codemirror_mode": {
    "name": "ipython",
    "version": 3
   },
   "file_extension": ".py",
   "mimetype": "text/x-python",
   "name": "python",
   "nbconvert_exporter": "python",
   "pygments_lexer": "ipython3",
   "version": "3.12.4"
  }
 },
 "nbformat": 4,
 "nbformat_minor": 5
}
